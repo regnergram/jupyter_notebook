{
 "cells": [
  {
   "cell_type": "markdown",
   "metadata": {},
   "source": [
    "# Python\n",
    "\n",
    "\n",
    "## Exception/Error handling: try/except"
   ]
  },
  {
   "cell_type": "code",
   "execution_count": 4,
   "metadata": {},
   "outputs": [
    {
     "name": "stdout",
     "output_type": "stream",
     "text": [
      "Vor dem try-except-handling\n",
      "In FileNotFoundError-Exception: Kommt eine bestimmte Fehlerart häufig vor, so kann sie in einer speziellen Exception abgefangen werden.\n",
      "In FileNotFoundError-Exception: in diesem Fall wurde eine FileNotFoundException geworfen und der Interpreter führt deshalb den Code aus diesen Exception Block aus.\n",
      "In FileNotFoundError-Exception: Exceptions koennen auch ausgegeben werden: [Errno 2] No such file or directory: 'dateiname_welches_nicht_existiert'\n",
      "Im finally-Teil: (Wird selten verwendet) Egal ob erfolgreicher Durchlauf des try-Blocks oder nicht: Dieser Block wird immer ausgefuehrt.\n",
      "Nach dem try-except-handling. Wird nicht ausgefuehrt, wenn ein Fehler geworfen, aber nicht von den excepts abgefangen wird.\n"
     ]
    }
   ],
   "source": [
    "print(\"Vor dem try-except-handling\")\n",
    "\n",
    "try:\n",
    "    datei = open(\"dateiname_welches_nicht_existiert\", 'r')  # oeffnet eine Datei, sofern sie gefunden wird.\n",
    "    print(\"Im Try-Block stehen die Codezeilen, bei denen es wahrscheinlich ist, dass sie zu Laufzeitfehlern fuehren. \"\n",
    "    \"Sobald eine Zeile einen Fehler wirft, so werden alle darunterfolgenden Zeilen des try-Blocks nicht mehr ausgefuehrt und der Interpreter springt zum Exception Block\")\n",
    "    print(\"der Try-Block sollte dabei moeglichst wenig Codezeilen\")\n",
    "    print(\"Errors koennen auch durch das Schluesselwort 'raise' geworfen werden:\")\n",
    "    raise Exception\n",
    "except FileNotFoundError as e:\n",
    "    prefix = \"In FileNotFoundError-Exception:\"\n",
    "    print(f\"{prefix} Kommt eine bestimmte Fehlerart häufig vor, so kann sie in einer speziellen Exception abgefangen werden.\")\n",
    "    print(f\"{prefix} in diesem Fall wurde eine FileNotFoundException geworfen und der Interpreter führt deshalb den Code aus diesen Exception Block aus.\")\n",
    "    print(f\"{prefix} Exceptions koennen auch ausgegeben werden: {e}\")\n",
    "except Exception as e_allgemein:\n",
    "    prefix = \"In Exception-Exception:\"\n",
    "    print(f\"{prefix} es koennen verschiedene Exceptions abgefangen werden, auch aus verschiedenen Hierarchieebenen.\")\n",
    "    print(f\"{prefix} Die allgemeinste Exception ist 'Exception' und wird verwendet, die Fehlerart noch unbekannt ist.\")\n",
    "    print(f\"{prefix} abgefragene Exceptions sollen von der feinsten Hierarchiebene hin zum allgemeinsten sortiert werden.\")\n",
    "    print(f\"{prefix} wurde bereits ein geworfener Error von einem der obigen Exceptions abgefangen, so werden alle (allgemeineren) Exception Blocks uebersprungen.\")\n",
    "else:\n",
    "    prefix = \"Im Else-Teil:\"\n",
    "    print(f\"{prefix} Sollte der Code aus dem Try-Block keinen Fehler werfen, so wird der Block aus diesem Else-Teil\")\n",
    "finally:\n",
    "    prefix = \"Im finally-Teil:\"\n",
    "    print(f\"{prefix} (Wird selten verwendet) Egal ob erfolgreicher Durchlauf des try-Blocks oder nicht: Dieser Block wird immer ausgefuehrt.\")\n",
    "\n",
    "print(\"Nach dem try-except-handling. Wird nicht ausgefuehrt, wenn ein Fehler geworfen, aber nicht von den excepts abgefangen wird.\")"
   ]
  },
  {
   "cell_type": "markdown",
   "metadata": {},
   "source": [
    "## Pandas"
   ]
  },
  {
   "cell_type": "code",
   "execution_count": 13,
   "metadata": {},
   "outputs": [],
   "source": [
    "import pandas as pd # falls nicht vorhanden, ueber 'pip3 install pandas' nachinstallieren\n",
    "\n",
    "import numpy as np\n",
    "\n",
    "# Erstellen von Datenframes:\n",
    "leeres_datenframe = pd.DataFrame(columns=['liste', 'von', 'spaltenueberschriften'])\n",
    "datenframe = pd.DataFrame({'a': [1], 'b': [10], 'c': [100.0], 'd': ['string']}) # selbst bei nur einem Eintrag muessen die Werte in [] gesetzt werden!\n"
   ]
  },
  {
   "cell_type": "code",
   "execution_count": 14,
   "metadata": {},
   "outputs": [
    {
     "data": {
      "text/html": [
       "<div>\n",
       "<style scoped>\n",
       "    .dataframe tbody tr th:only-of-type {\n",
       "        vertical-align: middle;\n",
       "    }\n",
       "\n",
       "    .dataframe tbody tr th {\n",
       "        vertical-align: top;\n",
       "    }\n",
       "\n",
       "    .dataframe thead th {\n",
       "        text-align: right;\n",
       "    }\n",
       "</style>\n",
       "<table border=\"1\" class=\"dataframe\">\n",
       "  <thead>\n",
       "    <tr style=\"text-align: right;\">\n",
       "      <th></th>\n",
       "      <th>liste</th>\n",
       "      <th>von</th>\n",
       "      <th>spaltenueberschriften</th>\n",
       "    </tr>\n",
       "  </thead>\n",
       "  <tbody>\n",
       "  </tbody>\n",
       "</table>\n",
       "</div>"
      ],
      "text/plain": [
       "Empty DataFrame\n",
       "Columns: [liste, von, spaltenueberschriften]\n",
       "Index: []"
      ]
     },
     "execution_count": 14,
     "metadata": {},
     "output_type": "execute_result"
    }
   ],
   "source": [
    "leeres_datenframe"
   ]
  },
  {
   "cell_type": "code",
   "execution_count": 15,
   "metadata": {},
   "outputs": [
    {
     "data": {
      "text/html": [
       "<div>\n",
       "<style scoped>\n",
       "    .dataframe tbody tr th:only-of-type {\n",
       "        vertical-align: middle;\n",
       "    }\n",
       "\n",
       "    .dataframe tbody tr th {\n",
       "        vertical-align: top;\n",
       "    }\n",
       "\n",
       "    .dataframe thead th {\n",
       "        text-align: right;\n",
       "    }\n",
       "</style>\n",
       "<table border=\"1\" class=\"dataframe\">\n",
       "  <thead>\n",
       "    <tr style=\"text-align: right;\">\n",
       "      <th></th>\n",
       "      <th>a</th>\n",
       "      <th>b</th>\n",
       "      <th>c</th>\n",
       "      <th>d</th>\n",
       "    </tr>\n",
       "  </thead>\n",
       "  <tbody>\n",
       "    <tr>\n",
       "      <th>0</th>\n",
       "      <td>1</td>\n",
       "      <td>10</td>\n",
       "      <td>100.0</td>\n",
       "      <td>string</td>\n",
       "    </tr>\n",
       "  </tbody>\n",
       "</table>\n",
       "</div>"
      ],
      "text/plain": [
       "   a   b      c       d\n",
       "0  1  10  100.0  string"
      ]
     },
     "execution_count": 15,
     "metadata": {},
     "output_type": "execute_result"
    }
   ],
   "source": [
    "datenframe"
   ]
  },
  {
   "cell_type": "code",
   "execution_count": 22,
   "metadata": {},
   "outputs": [
    {
     "data": {
      "text/plain": [
       "array([[ 1.   ,  2.   ,  3.   ,  4.   ,  5.   ,  6.   ,  7.   ,  8.   ,\n",
       "         9.   ],\n",
       "       [ 1.   ,  2.125,  3.25 ,  4.375,  5.5  ,  6.625,  7.75 ,  8.875,\n",
       "        10.   ],\n",
       "       [ 1.   ,  1.   ,  1.   ,  1.   ,  1.   ,  1.   ,  1.   ,  1.   ,\n",
       "         1.   ],\n",
       "       [ 0.   ,  0.   ,  0.   ,  0.   ,  0.   ,  0.   ,  0.   ,  0.   ,\n",
       "         0.   ]])"
      ]
     },
     "execution_count": 22,
     "metadata": {},
     "output_type": "execute_result"
    }
   ],
   "source": [
    "\n",
    "aufsteigend = np.arange(1, 10 , 1)  # np.arange(start, stop, schrittweite)\n",
    "# Bemerkung zu np.arange: der Stop-Wert ist in dem erzeugten Array nicht mit dabei.\n",
    "\n",
    "gleiche_abstaende = np.linspace(1, 10, 9)  # np.linspace(start, stop, anzahl_der_schritte)\n",
    "konstant = np.ones(aufsteigend.size, dtype=np.int16)\n",
    "null_array = np.zeros(aufsteigend.size, dtype=np.float64)\n",
    "\n",
    "zwei_d_array = [aufsteigend, gleiche_abstaende, konstant, null_array]\n",
    "spalten = ['aufsteigend', 'gleiche_abstaende', 'konstant', 'null_array']\n",
    "zwei_d_array = np.array(zwei_d_array)\n",
    "zwei_d_array"
   ]
  },
  {
   "cell_type": "code",
   "execution_count": 24,
   "metadata": {},
   "outputs": [
    {
     "data": {
      "text/html": [
       "<div>\n",
       "<style scoped>\n",
       "    .dataframe tbody tr th:only-of-type {\n",
       "        vertical-align: middle;\n",
       "    }\n",
       "\n",
       "    .dataframe tbody tr th {\n",
       "        vertical-align: top;\n",
       "    }\n",
       "\n",
       "    .dataframe thead th {\n",
       "        text-align: right;\n",
       "    }\n",
       "</style>\n",
       "<table border=\"1\" class=\"dataframe\">\n",
       "  <thead>\n",
       "    <tr style=\"text-align: right;\">\n",
       "      <th></th>\n",
       "      <th>aufsteigend</th>\n",
       "      <th>gleiche_abstaende</th>\n",
       "      <th>konstant</th>\n",
       "      <th>null_array</th>\n",
       "    </tr>\n",
       "  </thead>\n",
       "  <tbody>\n",
       "    <tr>\n",
       "      <th>0</th>\n",
       "      <td>1.0</td>\n",
       "      <td>1.000</td>\n",
       "      <td>1.0</td>\n",
       "      <td>0.0</td>\n",
       "    </tr>\n",
       "    <tr>\n",
       "      <th>1</th>\n",
       "      <td>2.0</td>\n",
       "      <td>2.125</td>\n",
       "      <td>1.0</td>\n",
       "      <td>0.0</td>\n",
       "    </tr>\n",
       "    <tr>\n",
       "      <th>2</th>\n",
       "      <td>3.0</td>\n",
       "      <td>3.250</td>\n",
       "      <td>1.0</td>\n",
       "      <td>0.0</td>\n",
       "    </tr>\n",
       "    <tr>\n",
       "      <th>3</th>\n",
       "      <td>4.0</td>\n",
       "      <td>4.375</td>\n",
       "      <td>1.0</td>\n",
       "      <td>0.0</td>\n",
       "    </tr>\n",
       "    <tr>\n",
       "      <th>4</th>\n",
       "      <td>5.0</td>\n",
       "      <td>5.500</td>\n",
       "      <td>1.0</td>\n",
       "      <td>0.0</td>\n",
       "    </tr>\n",
       "    <tr>\n",
       "      <th>5</th>\n",
       "      <td>6.0</td>\n",
       "      <td>6.625</td>\n",
       "      <td>1.0</td>\n",
       "      <td>0.0</td>\n",
       "    </tr>\n",
       "    <tr>\n",
       "      <th>6</th>\n",
       "      <td>7.0</td>\n",
       "      <td>7.750</td>\n",
       "      <td>1.0</td>\n",
       "      <td>0.0</td>\n",
       "    </tr>\n",
       "    <tr>\n",
       "      <th>7</th>\n",
       "      <td>8.0</td>\n",
       "      <td>8.875</td>\n",
       "      <td>1.0</td>\n",
       "      <td>0.0</td>\n",
       "    </tr>\n",
       "    <tr>\n",
       "      <th>8</th>\n",
       "      <td>9.0</td>\n",
       "      <td>10.000</td>\n",
       "      <td>1.0</td>\n",
       "      <td>0.0</td>\n",
       "    </tr>\n",
       "  </tbody>\n",
       "</table>\n",
       "</div>"
      ],
      "text/plain": [
       "   aufsteigend  gleiche_abstaende  konstant  null_array\n",
       "0          1.0              1.000       1.0         0.0\n",
       "1          2.0              2.125       1.0         0.0\n",
       "2          3.0              3.250       1.0         0.0\n",
       "3          4.0              4.375       1.0         0.0\n",
       "4          5.0              5.500       1.0         0.0\n",
       "5          6.0              6.625       1.0         0.0\n",
       "6          7.0              7.750       1.0         0.0\n",
       "7          8.0              8.875       1.0         0.0\n",
       "8          9.0             10.000       1.0         0.0"
      ]
     },
     "execution_count": 24,
     "metadata": {},
     "output_type": "execute_result"
    }
   ],
   "source": [
    "datenframe_aus_np_arrays = pd.DataFrame(zwei_d_array.transpose(), columns=spalten)\n",
    "datenframe_aus_np_arrays"
   ]
  },
  {
   "cell_type": "code",
   "execution_count": 26,
   "metadata": {},
   "outputs": [
    {
     "data": {
      "text/html": [
       "<div>\n",
       "<style scoped>\n",
       "    .dataframe tbody tr th:only-of-type {\n",
       "        vertical-align: middle;\n",
       "    }\n",
       "\n",
       "    .dataframe tbody tr th {\n",
       "        vertical-align: top;\n",
       "    }\n",
       "\n",
       "    .dataframe thead th {\n",
       "        text-align: right;\n",
       "    }\n",
       "</style>\n",
       "<table border=\"1\" class=\"dataframe\">\n",
       "  <thead>\n",
       "    <tr style=\"text-align: right;\">\n",
       "      <th></th>\n",
       "      <th>aufsteigend</th>\n",
       "      <th>gleiche_abstaende</th>\n",
       "      <th>konstant</th>\n",
       "      <th>null_array</th>\n",
       "    </tr>\n",
       "  </thead>\n",
       "  <tbody>\n",
       "    <tr>\n",
       "      <th>0</th>\n",
       "      <td>-1</td>\n",
       "      <td>-1</td>\n",
       "      <td>-1</td>\n",
       "      <td>-1</td>\n",
       "    </tr>\n",
       "  </tbody>\n",
       "</table>\n",
       "</div>"
      ],
      "text/plain": [
       "   aufsteigend  gleiche_abstaende  konstant  null_array\n",
       "0           -1                 -1        -1          -1"
      ]
     },
     "execution_count": 26,
     "metadata": {},
     "output_type": "execute_result"
    }
   ],
   "source": [
    "neuer_eintrag = pd.DataFrame( [[-1, -1, -1, -1]], columns=spalten)\n",
    "neuer_eintrag"
   ]
  },
  {
   "cell_type": "code",
   "execution_count": 27,
   "metadata": {},
   "outputs": [
    {
     "data": {
      "text/html": [
       "<div>\n",
       "<style scoped>\n",
       "    .dataframe tbody tr th:only-of-type {\n",
       "        vertical-align: middle;\n",
       "    }\n",
       "\n",
       "    .dataframe tbody tr th {\n",
       "        vertical-align: top;\n",
       "    }\n",
       "\n",
       "    .dataframe thead th {\n",
       "        text-align: right;\n",
       "    }\n",
       "</style>\n",
       "<table border=\"1\" class=\"dataframe\">\n",
       "  <thead>\n",
       "    <tr style=\"text-align: right;\">\n",
       "      <th></th>\n",
       "      <th>aufsteigend</th>\n",
       "      <th>gleiche_abstaende</th>\n",
       "      <th>konstant</th>\n",
       "      <th>null_array</th>\n",
       "    </tr>\n",
       "  </thead>\n",
       "  <tbody>\n",
       "    <tr>\n",
       "      <th>0</th>\n",
       "      <td>1.0</td>\n",
       "      <td>1.000</td>\n",
       "      <td>1.0</td>\n",
       "      <td>0.0</td>\n",
       "    </tr>\n",
       "    <tr>\n",
       "      <th>1</th>\n",
       "      <td>2.0</td>\n",
       "      <td>2.125</td>\n",
       "      <td>1.0</td>\n",
       "      <td>0.0</td>\n",
       "    </tr>\n",
       "    <tr>\n",
       "      <th>2</th>\n",
       "      <td>3.0</td>\n",
       "      <td>3.250</td>\n",
       "      <td>1.0</td>\n",
       "      <td>0.0</td>\n",
       "    </tr>\n",
       "    <tr>\n",
       "      <th>3</th>\n",
       "      <td>4.0</td>\n",
       "      <td>4.375</td>\n",
       "      <td>1.0</td>\n",
       "      <td>0.0</td>\n",
       "    </tr>\n",
       "    <tr>\n",
       "      <th>4</th>\n",
       "      <td>5.0</td>\n",
       "      <td>5.500</td>\n",
       "      <td>1.0</td>\n",
       "      <td>0.0</td>\n",
       "    </tr>\n",
       "    <tr>\n",
       "      <th>5</th>\n",
       "      <td>6.0</td>\n",
       "      <td>6.625</td>\n",
       "      <td>1.0</td>\n",
       "      <td>0.0</td>\n",
       "    </tr>\n",
       "    <tr>\n",
       "      <th>6</th>\n",
       "      <td>7.0</td>\n",
       "      <td>7.750</td>\n",
       "      <td>1.0</td>\n",
       "      <td>0.0</td>\n",
       "    </tr>\n",
       "    <tr>\n",
       "      <th>7</th>\n",
       "      <td>8.0</td>\n",
       "      <td>8.875</td>\n",
       "      <td>1.0</td>\n",
       "      <td>0.0</td>\n",
       "    </tr>\n",
       "    <tr>\n",
       "      <th>8</th>\n",
       "      <td>9.0</td>\n",
       "      <td>10.000</td>\n",
       "      <td>1.0</td>\n",
       "      <td>0.0</td>\n",
       "    </tr>\n",
       "    <tr>\n",
       "      <th>9</th>\n",
       "      <td>-1.0</td>\n",
       "      <td>-1.000</td>\n",
       "      <td>-1.0</td>\n",
       "      <td>-1.0</td>\n",
       "    </tr>\n",
       "  </tbody>\n",
       "</table>\n",
       "</div>"
      ],
      "text/plain": [
       "   aufsteigend  gleiche_abstaende  konstant  null_array\n",
       "0          1.0              1.000       1.0         0.0\n",
       "1          2.0              2.125       1.0         0.0\n",
       "2          3.0              3.250       1.0         0.0\n",
       "3          4.0              4.375       1.0         0.0\n",
       "4          5.0              5.500       1.0         0.0\n",
       "5          6.0              6.625       1.0         0.0\n",
       "6          7.0              7.750       1.0         0.0\n",
       "7          8.0              8.875       1.0         0.0\n",
       "8          9.0             10.000       1.0         0.0\n",
       "9         -1.0             -1.000      -1.0        -1.0"
      ]
     },
     "execution_count": 27,
     "metadata": {},
     "output_type": "execute_result"
    }
   ],
   "source": [
    "zusammengefuegter_datenframe = pd.concat([datenframe_aus_np_arrays, neuer_eintrag], ignore_index=True)\n",
    "zusammengefuegter_datenframe"
   ]
  },
  {
   "cell_type": "code",
   "execution_count": 31,
   "metadata": {},
   "outputs": [],
   "source": [
    "zusammengefuegter_datenframe.to_csv('pandas/gespeicherter_datenframe.csv', index=False)"
   ]
  },
  {
   "cell_type": "code",
   "execution_count": 34,
   "metadata": {},
   "outputs": [
    {
     "data": {
      "text/html": [
       "<div>\n",
       "<style scoped>\n",
       "    .dataframe tbody tr th:only-of-type {\n",
       "        vertical-align: middle;\n",
       "    }\n",
       "\n",
       "    .dataframe tbody tr th {\n",
       "        vertical-align: top;\n",
       "    }\n",
       "\n",
       "    .dataframe thead th {\n",
       "        text-align: right;\n",
       "    }\n",
       "</style>\n",
       "<table border=\"1\" class=\"dataframe\">\n",
       "  <thead>\n",
       "    <tr style=\"text-align: right;\">\n",
       "      <th></th>\n",
       "      <th>aufsteigend</th>\n",
       "      <th>gleiche_abstaende</th>\n",
       "      <th>konstant</th>\n",
       "      <th>null_array</th>\n",
       "    </tr>\n",
       "  </thead>\n",
       "  <tbody>\n",
       "    <tr>\n",
       "      <th>0</th>\n",
       "      <td>1.0</td>\n",
       "      <td>1.000</td>\n",
       "      <td>1.0</td>\n",
       "      <td>0.0</td>\n",
       "    </tr>\n",
       "    <tr>\n",
       "      <th>1</th>\n",
       "      <td>2.0</td>\n",
       "      <td>2.125</td>\n",
       "      <td>1.0</td>\n",
       "      <td>0.0</td>\n",
       "    </tr>\n",
       "    <tr>\n",
       "      <th>2</th>\n",
       "      <td>3.0</td>\n",
       "      <td>3.250</td>\n",
       "      <td>1.0</td>\n",
       "      <td>0.0</td>\n",
       "    </tr>\n",
       "    <tr>\n",
       "      <th>3</th>\n",
       "      <td>4.0</td>\n",
       "      <td>4.375</td>\n",
       "      <td>1.0</td>\n",
       "      <td>0.0</td>\n",
       "    </tr>\n",
       "    <tr>\n",
       "      <th>4</th>\n",
       "      <td>5.0</td>\n",
       "      <td>5.500</td>\n",
       "      <td>1.0</td>\n",
       "      <td>0.0</td>\n",
       "    </tr>\n",
       "    <tr>\n",
       "      <th>5</th>\n",
       "      <td>6.0</td>\n",
       "      <td>6.625</td>\n",
       "      <td>1.0</td>\n",
       "      <td>0.0</td>\n",
       "    </tr>\n",
       "    <tr>\n",
       "      <th>6</th>\n",
       "      <td>7.0</td>\n",
       "      <td>7.750</td>\n",
       "      <td>1.0</td>\n",
       "      <td>0.0</td>\n",
       "    </tr>\n",
       "    <tr>\n",
       "      <th>7</th>\n",
       "      <td>8.0</td>\n",
       "      <td>8.875</td>\n",
       "      <td>1.0</td>\n",
       "      <td>0.0</td>\n",
       "    </tr>\n",
       "    <tr>\n",
       "      <th>8</th>\n",
       "      <td>9.0</td>\n",
       "      <td>10.000</td>\n",
       "      <td>1.0</td>\n",
       "      <td>0.0</td>\n",
       "    </tr>\n",
       "    <tr>\n",
       "      <th>9</th>\n",
       "      <td>-1.0</td>\n",
       "      <td>-1.000</td>\n",
       "      <td>-1.0</td>\n",
       "      <td>-1.0</td>\n",
       "    </tr>\n",
       "  </tbody>\n",
       "</table>\n",
       "</div>"
      ],
      "text/plain": [
       "   aufsteigend  gleiche_abstaende  konstant  null_array\n",
       "0          1.0              1.000       1.0         0.0\n",
       "1          2.0              2.125       1.0         0.0\n",
       "2          3.0              3.250       1.0         0.0\n",
       "3          4.0              4.375       1.0         0.0\n",
       "4          5.0              5.500       1.0         0.0\n",
       "5          6.0              6.625       1.0         0.0\n",
       "6          7.0              7.750       1.0         0.0\n",
       "7          8.0              8.875       1.0         0.0\n",
       "8          9.0             10.000       1.0         0.0\n",
       "9         -1.0             -1.000      -1.0        -1.0"
      ]
     },
     "execution_count": 34,
     "metadata": {},
     "output_type": "execute_result"
    }
   ],
   "source": [
    "geladener_datenframe = pd.read_csv('pandas/gespeicherter_datenframe.csv')\n",
    "geladener_datenframe"
   ]
<<<<<<< HEAD
  },
  {
   "cell_type": "markdown",
   "metadata": {},
   "source": [
    "## Indizieren von Arrays"
   ]
  },
  {
   "cell_type": "code",
   "execution_count": 36,
   "metadata": {},
   "outputs": [
    {
     "data": {
      "text/plain": [
       "array([ 1,  2,  3,  4,  5,  6,  7,  8,  9, 10, 11, 12, 13, 14, 15, 16, 17,\n",
       "       18, 19, 20, 21, 22, 23, 24, 25, 26, 27])"
      ]
     },
     "execution_count": 36,
     "metadata": {},
     "output_type": "execute_result"
    }
   ],
   "source": [
    "eindimensionales_array = np.arange(1, 27+1, 1)\n",
    "eindimensionales_array"
   ]
  },
  {
   "cell_type": "code",
   "execution_count": 38,
   "metadata": {},
   "outputs": [
    {
     "data": {
      "text/plain": [
       "array([[[ 1,  2,  3],\n",
       "        [ 4,  5,  6],\n",
       "        [ 7,  8,  9]],\n",
       "\n",
       "       [[10, 11, 12],\n",
       "        [13, 14, 15],\n",
       "        [16, 17, 18]],\n",
       "\n",
       "       [[19, 20, 21],\n",
       "        [22, 23, 24],\n",
       "        [25, 26, 27]]])"
      ]
     },
     "execution_count": 38,
     "metadata": {},
     "output_type": "execute_result"
    }
   ],
   "source": [
    "# eindimensionales_array = np.arange(1, 10, 1)\n",
    "dreix3x3_array = eindimensionales_array.reshape(3,3,3)\n",
    "dreix3x3_array  # quasi als ein array von 3x3-Matrizen zu verstehen"
   ]
  },
  {
   "cell_type": "code",
   "execution_count": 41,
   "metadata": {},
   "outputs": [
    {
     "data": {
      "text/plain": [
       "array([[1, 2, 3],\n",
       "       [4, 5, 6],\n",
       "       [7, 8, 9]])"
      ]
     },
     "execution_count": 41,
     "metadata": {},
     "output_type": "execute_result"
    }
   ],
   "source": [
    "dreix3x3_array[0]   # gibt erste 3x3-Matrix aus"
   ]
  },
  {
   "cell_type": "code",
   "execution_count": 42,
   "metadata": {},
   "outputs": [
    {
     "data": {
      "text/plain": [
       "array([1, 2, 3])"
      ]
     },
     "execution_count": 42,
     "metadata": {},
     "output_type": "execute_result"
    }
   ],
   "source": [
    "dreix3x3_array[0][0]    # gibt die erste Zeile der ersten 3x3-Matrix aus"
   ]
  },
  {
   "cell_type": "code",
   "execution_count": 43,
   "metadata": {},
   "outputs": [
    {
     "data": {
      "text/plain": [
       "1"
      ]
     },
     "execution_count": 43,
     "metadata": {},
     "output_type": "execute_result"
    }
   ],
   "source": [
    "dreix3x3_array[0][0][0]     # gibt das Element (1, 1) der ersten 3x3-Matrix aus"
   ]
  },
  {
   "cell_type": "code",
   "execution_count": 44,
   "metadata": {},
   "outputs": [
    {
     "data": {
      "text/plain": [
       "array([[ 3,  6,  9],\n",
       "       [12, 15, 18],\n",
       "       [21, 24, 27]])"
      ]
     },
     "execution_count": 44,
     "metadata": {},
     "output_type": "execute_result"
    }
   ],
   "source": [
    "\n",
    "dreix3x3_array[:, :, 2]     # bildet aus der dritten Spalte jeder Matrix eine neue Matrix"
   ]
=======
>>>>>>> 97cfdad5fc06271d97108a5879d25befe4fe287d
  }
 ],
 "metadata": {
  "kernelspec": {
   "display_name": "Python 3.9.12 ('base')",
   "language": "python",
   "name": "python3"
  },
  "language_info": {
   "codemirror_mode": {
    "name": "ipython",
    "version": 3
   },
   "file_extension": ".py",
   "mimetype": "text/x-python",
   "name": "python",
   "nbconvert_exporter": "python",
   "pygments_lexer": "ipython3",
   "version": "3.9.12"
  },
  "orig_nbformat": 4,
  "vscode": {
   "interpreter": {
    "hash": "ad2bdc8ecc057115af97d19610ffacc2b4e99fae6737bb82f5d7fb13d2f2c186"
   }
  }
 },
 "nbformat": 4,
 "nbformat_minor": 2
}
