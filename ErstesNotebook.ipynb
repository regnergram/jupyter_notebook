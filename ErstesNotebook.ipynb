{
 "cells": [
  {
   "cell_type": "markdown",
   "metadata": {},
   "source": [
    "# Mein erstes Notebook\n",
    "\n",
    "Das ist der Notebook-Einstieg auf Basis von: https://www.youtube.com/watch?v=h1sAzPojKMg\n",
    "Der Text hier ist in einer Markdown-Zelle geschrieben. In VS Code lässt es sich unten rechts der Zelle einstellen."
   ]
  },
  {
   "cell_type": "markdown",
   "metadata": {},
   "source": [
    "## Vorbereitung\n",
    "\n",
    "1. Zunächst muss Anaconda installiert werden: https://www.anaconda.com/\n",
    "2. Nach der Installation den Anaconda-Prompt öffnen:\n",
    "\n",
    "![hier sollte ein Bild eingefuegt sein..](./images/AnacondaPrompt.PNG)\n",
    "\n",
    "3. Im Anaconda Prompt folgenden Befehl eingeben, um ein Package zu installieren, um Anaconda in VS Code nutzen zu können:\n",
    "```sh\n",
    "conda install ipykernel\n",
    "```\n",
    "\n",
    "4. VS Code öffnen, Python-Extension von Microsoft installieren und Python-Interpretierer \"'base': conda\" unter dem Button \"Select Python Interpreter\" wählen\n",
    "\n",
    "<!-- ![hier sollte ein Abbild der VS Code Umgebung erscheinen..](./images/Python-Interpreter.PNG) -->\n",
    "<div>\n",
    "<img src=\"./images/Python-Interpreter.PNG\" width=\"700\"/>\n",
    "</div>\n",
    "\n",
    "Fertig. "
   ]
  },
  {
   "cell_type": "code",
   "execution_count": 1,
   "metadata": {},
   "outputs": [
    {
     "name": "stdout",
     "output_type": "stream",
     "text": [
      "Das hier ist eine Python-Zelle\n"
     ]
    }
   ],
   "source": [
    "print(\"Das hier ist eine Python-Zelle\")"
   ]
  },
  {
   "cell_type": "markdown",
   "metadata": {},
   "source": [
    "## Hilfreiches zu Jupyter-Notebooks\n",
    "\n",
    "### Mathematische Formeln\n",
    "\n",
    "Gerade für mathematische Formeln kann auf Latex zurückgegriffen werden, indem die Formel in zwei Dollar-Zeichen ($$) gesetzt wird:\n",
    "$$\\sum_{k=1}^{50} k$$\n",
    "\n",
    "### Linux-Befehle\n",
    "\n",
    "mit %<linux_befehl> können Linux-Befehle ausgeführt werden, z.B.\n"
   ]
  },
  {
   "cell_type": "code",
   "execution_count": 24,
   "metadata": {},
   "outputs": [
    {
     "name": "stdout",
     "output_type": "stream",
     "text": [
      "\"Hi\"\n"
     ]
    }
   ],
   "source": [
    "%echo \"Hi\"\n",
    "# %touch \"neueDatei.txt\""
   ]
  },
  {
   "cell_type": "markdown",
   "metadata": {},
   "source": [
    "\n",
    "\n",
    "## Matplotlib nutzen"
   ]
  },
  {
   "cell_type": "code",
   "execution_count": 15,
   "metadata": {},
   "outputs": [
    {
     "data": {
      "text/plain": [
       "<matplotlib.legend.Legend at 0x175a4864d00>"
      ]
     },
     "execution_count": 15,
     "metadata": {},
     "output_type": "execute_result"
    },
    {
     "data": {
      "image/png": "[encoded data removed]",
      "text/plain": [
       "<Figure size 432x288 with 1 Axes>"
      ]
     },
     "metadata": {
      "needs_background": "light"
     },
     "output_type": "display_data"
    }
   ],
   "source": [
    "import matplotlib.pyplot as plt     \n",
    "%matplotlib inline  \n",
    "# damit die Plots auch in das Notebook eingefuegt werden\n",
    "\n",
    "import numpy as np\n",
    "\n",
    "x = np.arange(0, 10, 0.01)\n",
    "y = np.sin(x)\n",
    "plt.plot(x, y)\n",
    "plt.scatter(x[0:-1:20],y[0:-1:20])\n",
    "plt.xlabel('x-Wert')\n",
    "plt.ylabel('y-Wert')\n",
    "plt.grid()\n",
    "plt.legend(['Sinus', 'Scatter (jeder 20. Wert'])"
   ]
  },
  {
   "cell_type": "markdown",
   "metadata": {},
   "source": [
    "\n",
    "## Quellen:\n",
    "\n",
    "- Installation: https://www.youtube.com/watch?v=h1sAzPojKMg\n",
    "- Features von Jupyter, insbesondere altair als matplotlib-Konkurrenz: https://www.youtube.com/watch?v=1S4Cgtkxqhs"
   ]
  }
 ],
 "metadata": {
  "kernelspec": {
   "display_name": "Python 3.9.12 ('base')",
   "language": "python",
   "name": "python3"
  },
  "language_info": {
   "codemirror_mode": {
    "name": "ipython",
    "version": 3
   },
   "file_extension": ".py",
   "mimetype": "text/x-python",
   "name": "python",
   "nbconvert_exporter": "python",
   "pygments_lexer": "ipython3",
   "version": "3.9.12"
  },
  "orig_nbformat": 4,
  "vscode": {
   "interpreter": {
    "hash": "ad2bdc8ecc057115af97d19610ffacc2b4e99fae6737bb82f5d7fb13d2f2c186"
   }
  }
 },
 "nbformat": 4,
 "nbformat_minor": 2
}
